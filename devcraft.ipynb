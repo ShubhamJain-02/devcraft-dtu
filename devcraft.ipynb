!pip install pymupdf
  import fitz  

def extract_text_from_pdf(pdf_path):
    doc = fitz.open(pdf_path)
    text = ""

    for page_number in range(doc.page_count):
        page = doc[page_number]
        text += page.get_text()

    doc.close()
    return text

pdf_text = extract_text_from_pdf('8.pdf')
print(pdf_text)
from sklearn.model_selection import train_test_split
from sklearn.feature_extraction.text import TfidfVectorizer
from sklearn.svm import SVC
from sklearn.metrics import accuracy_score, classification_report
import pandas as pd

df=pd.read_csv('NLP_dataset - Sheet1.csv')
train_data, test_data = train_test_split(df, test_size=0.2, random_state=42)

vectorizer = TfidfVectorizer(
    max_features=5000,
    ngram_range=(1, 2),
    stop_words='english',
    sublinear_tf=True
)
df.dropna(inplace=True)
X_train = vectorizer.fit_transform(train_data['Text'])
X_test = vectorizer.transform(test_data['Text'])
y_train = train_data['Label']
y_test = test_data['Label']

classifier = SVC(kernel='linear', C=1)
classifier.fit(X_train, y_train)

y_pred = classifier.predict(X_test)

accuracy = accuracy_score(y_test, y_pred)
classification_rep = classification_report(y_test, y_pred)

print(f"Accuracy: {accuracy:.2f}")
print("Classification Report:\n", classification_rep)
custom_data = [
    "I hear the crack of his skull before the spattering of blood reaches me. I gasp and take a quick step back onto the sidewalk. One of my heels doesn’t clear the curb, so I grip the pole of a No Parking sign to steady myself"]
custom_data=[pdf_text]
X_custom = vectorizer.transform(custom_data)

predictions = classifier.predict(X_custom)

for text, label in zip(custom_data, predictions):
    print(f"Text: {text}\nPredicted Label: {label}\n")
